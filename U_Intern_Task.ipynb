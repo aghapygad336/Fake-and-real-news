{
  "nbformat": 4,
  "nbformat_minor": 0,
  "metadata": {
    "kernelspec": {
      "display_name": "Python 3",
      "language": "python",
      "name": "python3"
    },
    "language_info": {
      "codemirror_mode": {
        "name": "ipython",
        "version": 3
      },
      "file_extension": ".py",
      "mimetype": "text/x-python",
      "name": "python",
      "nbconvert_exporter": "python",
      "pygments_lexer": "ipython3",
      "version": "3.6.10"
    },
    "colab": {
      "name": "U Intern Task.ipynb",
      "provenance": [],
      "collapsed_sections": [],
      "include_colab_link": true
    }
  },
  "cells": [
    {
      "cell_type": "markdown",
      "metadata": {
        "id": "view-in-github",
        "colab_type": "text"
      },
      "source": [
        "<a href=\"https://colab.research.google.com/github/aghapygad336/Fake-and-real-news/blob/master/U_Intern_Task.ipynb\" target=\"_parent\"><img src=\"https://colab.research.google.com/assets/colab-badge.svg\" alt=\"Open In Colab\"/></a>"
      ]
    },
    {
      "cell_type": "markdown",
      "metadata": {
        "id": "_MY4C-mEYIMM",
        "colab_type": "text"
      },
      "source": [
        "# Part 1 ( Python ):\n"
      ]
    },
    {
      "cell_type": "markdown",
      "metadata": {
        "id": "ibGexEisYIMO",
        "colab_type": "text"
      },
      "source": [
        "### Q1: \n",
        "    Write a program that computes the value of a+aa+aaa+aaaa with a given digit as the value of a. Suppose the following input is supplied to the program: 9 Then, the output should be: 11106"
      ]
    },
    {
      "cell_type": "code",
      "metadata": {
        "id": "4TH8vCXDYIMP",
        "colab_type": "code",
        "colab": {
          "base_uri": "https://localhost:8080/",
          "height": 51
        },
        "outputId": "5724c471-00f6-4579-f11f-e76689b1cb14"
      },
      "source": [
        "a = int(input(\"Input an integer : \"))\n",
        "n1 = int( \"%s\" % a )\n",
        "n2 = int( \"%s%s\" % (a,a) )\n",
        "n3 = int( \"%s%s%s\" % (a,a,a) )\n",
        "n4 = int( \"%s%s%s%s\" % (a,a,a,a) )\n",
        "print (n1+n2+n3+n4)\n"
      ],
      "execution_count": null,
      "outputs": [
        {
          "output_type": "stream",
          "text": [
            "Input an integer : 9\n",
            "11106\n"
          ],
          "name": "stdout"
        }
      ]
    },
    {
      "cell_type": "markdown",
      "metadata": {
        "id": "lM7zH7fJYIMW",
        "colab_type": "text"
      },
      "source": [
        "### Q2:\n",
        "    Please write a program to print the running time of execution of \"1+1\" for 100 times.\n"
      ]
    },
    {
      "cell_type": "code",
      "metadata": {
        "id": "23pHTMLJYIMX",
        "colab_type": "code",
        "colab": {
          "base_uri": "https://localhost:8080/",
          "height": 34
        },
        "outputId": "233702fa-3b93-44db-f9ab-217010115ccc"
      },
      "source": [
        "from timeit import Timer\n",
        "t = Timer(\"for i in range(100):1+1\")\n",
        "print (t.timeit())\n"
      ],
      "execution_count": null,
      "outputs": [
        {
          "output_type": "stream",
          "text": [
            "1.6221554400000002\n"
          ],
          "name": "stdout"
        }
      ]
    },
    {
      "cell_type": "code",
      "metadata": {
        "id": "Y6heeuUxYKkD",
        "colab_type": "code",
        "colab": {}
      },
      "source": [
        ""
      ],
      "execution_count": null,
      "outputs": []
    },
    {
      "cell_type": "markdown",
      "metadata": {
        "id": "KbXdkibqYIMc",
        "colab_type": "text"
      },
      "source": [
        "### Q3:\n",
        "    You are required to write a program to sort the (name, age, height) tuples by ascending order where name is string, age and height are numbers. The tuples are input by console. The sort criteria is: 1: Sort based on name; 2: Then sort based on age; 3: Then sort by score. The priority is that name > age > score. If the following tuples are given as input to the program: Tom,19,80 John,20,90 Jony,17,91 Jony,17,93 Json,21,85 Then, the output of the program should be: [('John', '20', '90'), ('Jony', '17', '91'), ('Jony', '17', '93'), ('Json', '21', '85'), ('Tom', '19', '80')]"
      ]
    },
    {
      "cell_type": "code",
      "metadata": {
        "id": "H6vwTqE-YIMc",
        "colab_type": "code",
        "colab": {
          "base_uri": "https://localhost:8080/",
          "height": 34
        },
        "outputId": "508becea-57bb-409c-bcbd-5e873a0045a7"
      },
      "source": [
        "info = 'Tom,19,80 John,20,90 Jony,17,91 Jony,17,93 Json,21,85'\n",
        "\n",
        "info_list = [case.split(',') for case in info.split(' ')] \n",
        "print(sorted(info_list))\n"
      ],
      "execution_count": null,
      "outputs": [
        {
          "output_type": "stream",
          "text": [
            "[['John', '20', '90'], ['Jony', '17', '91'], ['Jony', '17', '93'], ['Json', '21', '85'], ['Tom', '19', '80']]\n"
          ],
          "name": "stdout"
        }
      ]
    },
    {
      "cell_type": "markdown",
      "metadata": {
        "id": "c3OWYhn5YIMh",
        "colab_type": "text"
      },
      "source": [
        "### Q4:\n",
        "    Write a Python program to count the number of characters (character frequency) in a string.\n",
        "\n",
        "Examble: ('google.com') => {'g': 2, 'o': 3, 'l': 1, 'e': 1, '.': 1, 'c': 1, 'm': 1}"
      ]
    },
    {
      "cell_type": "code",
      "metadata": {
        "id": "JiUcAeieYIMi",
        "colab_type": "code",
        "colab": {
          "base_uri": "https://localhost:8080/",
          "height": 51
        },
        "outputId": "3e0dd999-00d9-4c22-fad7-26ec5f0b6344"
      },
      "source": [
        "# initializing string  \n",
        "test_str = \"google.com\"\n",
        "  \n",
        "# using set() + count() to get count  \n",
        "# of each element in string  \n",
        "res = {i : test_str.count(i) for i in set(test_str)} \n",
        "# printing result  \n",
        "print (\"The count of all characters is :\\n \"+  str(res)) \n"
      ],
      "execution_count": null,
      "outputs": [
        {
          "output_type": "stream",
          "text": [
            "The count of all characters is :\n",
            " {'e': 1, '.': 1, 'l': 1, 'm': 1, 'g': 2, 'c': 1, 'o': 3}\n"
          ],
          "name": "stdout"
        }
      ]
    },
    {
      "cell_type": "code",
      "metadata": {
        "id": "OCrUIUjZgbNQ",
        "colab_type": "code",
        "colab": {
          "base_uri": "https://localhost:8080/",
          "height": 51
        },
        "outputId": "7b015bd4-59c5-435f-9bd3-5b369d4971f2"
      },
      "source": [
        "from collections import Counter \n",
        "  \n",
        "# initializing string  \n",
        "\n",
        "# using collections.Counter() to get  \n",
        "# count of each element in string  \n",
        "res = Counter(test_str) \n",
        "print (\"The count of all characters is :\\n \"+  str(res)) \n"
      ],
      "execution_count": null,
      "outputs": [
        {
          "output_type": "stream",
          "text": [
            "The count of all characters is :\n",
            " Counter({'o': 3, 'g': 2, 'l': 1, 'e': 1, '.': 1, 'c': 1, 'm': 1})\n"
          ],
          "name": "stdout"
        }
      ]
    },
    {
      "cell_type": "markdown",
      "metadata": {
        "id": "4Stwjj8OYIMm",
        "colab_type": "text"
      },
      "source": [
        "\n",
        "### Q5:\n",
        "    Write a Python program to add 'ing' at the end of a given string (length should be at least 3). If the given string already ends with 'ing' then add 'ly' instead. If the string length of the given string is less than 3, leave it unchanged.\n",
        "Examble \n",
        "\n",
        "        => ab => ab\n",
        "\n",
        "        => abc => abcing \n",
        "        \n",
        "        => string => stringly"
      ]
    },
    {
      "cell_type": "code",
      "metadata": {
        "id": "5fTVPNWTYIMn",
        "colab_type": "code",
        "colab": {
          "base_uri": "https://localhost:8080/",
          "height": 68
        },
        "outputId": "ca524f85-991e-41de-d153-128bc6ab3aad"
      },
      "source": [
        "def add_string(str1):\n",
        "  length = len(str1)\n",
        "\n",
        "  if length > 2:\n",
        "    if str1[-3:] == 'ing':\n",
        "      str1 += 'ly'\n",
        "    else:\n",
        "      str1 += 'ing'\n",
        "\n",
        "  return str1\n",
        "print(add_string('ab'))\n",
        "print(add_string('abc'))\n",
        "print(add_string('string'))\n"
      ],
      "execution_count": null,
      "outputs": [
        {
          "output_type": "stream",
          "text": [
            "ab\n",
            "abcing\n",
            "stringly\n"
          ],
          "name": "stdout"
        }
      ]
    },
    {
      "cell_type": "markdown",
      "metadata": {
        "id": "J1fYedNVYIMr",
        "colab_type": "text"
      },
      "source": [
        "### Q6:\n",
        "    Write a Python program to add 5 seconds with the current time.\n",
        "\n",
        "Examble: Current time=> 13:09:38.491219 After 5 seconds => 13:09:43.491219"
      ]
    },
    {
      "cell_type": "code",
      "metadata": {
        "id": "mYRhhnO1YIMs",
        "colab_type": "code",
        "colab": {
          "base_uri": "https://localhost:8080/",
          "height": 51
        },
        "outputId": "3d2d2fdb-bb3e-42fc-e7de-09a8574e5dc5"
      },
      "source": [
        "import datetime\n",
        "x= datetime.datetime.now()\n",
        "y = x + datetime.timedelta(0,5)\n",
        "print(x.time())\n",
        "print(y.time())\n"
      ],
      "execution_count": null,
      "outputs": [
        {
          "output_type": "stream",
          "text": [
            "19:04:15.965686\n",
            "19:04:20.965686\n"
          ],
          "name": "stdout"
        }
      ]
    },
    {
      "cell_type": "markdown",
      "metadata": {
        "id": "K-vSN9MLYIMx",
        "colab_type": "text"
      },
      "source": [
        "### Q7:\n",
        "\n",
        "Please solve this problem and write your code here?\n",
        "\n",
        "https://www.hackerrank.com/challenges/np-polynomials/problem"
      ]
    },
    {
      "cell_type": "code",
      "metadata": {
        "id": "ZnfAD13GYIMy",
        "colab_type": "code",
        "colab": {
          "base_uri": "https://localhost:8080/",
          "height": 68
        },
        "outputId": "c6771829-51fd-41c2-c2b2-46c30c2b257b"
      },
      "source": [
        "import numpy as np\n",
        "P, x = np.array((input().split()), dtype=float), int(input())\n",
        "print(np.polyval(P, x))\n"
      ],
      "execution_count": null,
      "outputs": [
        {
          "output_type": "stream",
          "text": [
            "5\n",
            "2\n",
            "5.0\n"
          ],
          "name": "stdout"
        }
      ]
    },
    {
      "cell_type": "markdown",
      "metadata": {
        "id": "DFhRrcQxYIM2",
        "colab_type": "text"
      },
      "source": [
        "### Q8:\n",
        "\n",
        "Please solve this problem and write your code here?\n",
        "\n",
        "https://www.hackerrank.com/challenges/np-linear-algebra/problem"
      ]
    },
    {
      "cell_type": "code",
      "metadata": {
        "id": "07b4-GOvYIM3",
        "colab_type": "code",
        "colab": {}
      },
      "source": [
        ""
      ],
      "execution_count": null,
      "outputs": []
    },
    {
      "cell_type": "markdown",
      "metadata": {
        "id": "gzskRC6HYIM8",
        "colab_type": "text"
      },
      "source": [
        "# Part2 (GUI):\n",
        "    Please create simple calculator like this image ( with the same colors and architecture ) "
      ]
    },
    {
      "cell_type": "markdown",
      "metadata": {
        "id": "gXZPxAEUYIM9",
        "colab_type": "text"
      },
      "source": [
        "![caption](files/image.jpg)"
      ]
    },
    {
      "cell_type": "code",
      "metadata": {
        "id": "PIHjtsFt23HT",
        "colab_type": "code",
        "colab": {
          "base_uri": "https://localhost:8080/",
          "height": 51
        },
        "outputId": "5f48d0b0-51bc-43b3-bc1e-f5eb876a8db9"
      },
      "source": [
        "from tkinter import *\n",
        "from tkinter import messagebox\n",
        "class Window(Frame):\n",
        "        def __init__(self, master=None):\n",
        "                Frame.__init__(self, master)\n",
        "                self.master = master\n",
        "# Creating result text field\n",
        "                \n",
        "                \n",
        "                self.resultField = Text(master, bg=\"green\", fg=\"#FFFFFF\", height=10, width=17)\n",
        "                self.resultField.insert(INSERT, \"start Calculating\")\n",
        "                self.resultField.grid(row=0, columnspan=40)\n",
        "# Creating number and operation buttons\n",
        "                bd = Button(master, text=\".\", command=lambda: self.notice('.'),bg='orange')\n",
        "                b1 = Button(master, text=\"1\", command=lambda: self.notice(1))\n",
        "                b2 = Button(master, text=\"2\", command=lambda: self.notice(2))\n",
        "                b3 = Button(master, text=\"3\", command=lambda: self.notice(3))\n",
        "                bPlus = Button(master, text=\"+\", command=lambda: self.notice(\"+\"),bg='orange')\n",
        "                b4 = Button(master, text=\"4\", command=lambda: self.notice(4))\n",
        "                b5 = Button(master, text=\"5\", command=lambda: self.notice(5))\n",
        "                b6 = Button(master, text=\"6\", command=lambda: self.notice(6))\n",
        "                bMinus = Button(master, text=\"-\", command=lambda: self.notice(\"-\"),bg='orange')\n",
        "                b7 = Button(master, text=\"7\", command=lambda: self.notice(7))\n",
        "                b8 = Button(master, text=\"8\", command=lambda: self.notice(8))\n",
        "                b9 = Button(master, text=\"9\", command=lambda: self.notice(9))\n",
        "                bMultip = Button(master, text=\"x\", command=lambda: self.notice(\"*\"),bg='orange')\n",
        "                b0 = Button(master, text=\"0\", command=lambda: self.notice(0))\n",
        "                bLeft = Button(master, text=\"(\", command=lambda: self.notice(\"(\"),bg='orange')\n",
        "                bRight = Button(master, text=\")\", command=lambda: self.notice(\")\"),bg='orange')\n",
        "                bDivide = Button(master, text=\"/\", command=lambda: self.notice(\"/\"),bg='orange')\n",
        "# Aligning number and operation buttons\n",
        "                b1.place(x=0, y=85)\n",
        "                bRight.place(x=105, y=147)\n",
        "                b2.place(x=35, y=85)\n",
        "                b3.place(x=70, y=85)\n",
        "                b4.place(x=0, y=55)\n",
        "                b5.place(x=35, y=54)\n",
        "                b6.place(x=70, y=54)\n",
        "                bPlus.place(x=105, y=54)\n",
        "                b7.place(x=0, y=25)\n",
        "                b8.place(x=35, y=25)\n",
        "                b9.place(x=70, y=25)\n",
        "                bMultip.place(x=105, y=117)\n",
        "                b0.place(x=0, y=117)\n",
        "                bd.place(x=35, y=117)\n",
        "                bDivide.place(x=68, y=117)\n",
        "                bMinus.place(x=105, y=85)\n",
        "# Creating and aligning calculation buttons\n",
        "                bCalculate = tk.Button(master, text=\"=\", command=self.displayRes,width=5 ,bg='green')\n",
        "                bClear = Button(master, text=\"C\", command=self.clear ,bg='green')\n",
        "                bCalculate.place(x=0, y=147)\n",
        "                bLeft.place(x=68, y=147)\n",
        "                bClear.place(x=105, y=25)\n",
        "\n",
        "        def notice(self, num):\n",
        "                if self.resultField.get(\"0.0\", END) == \"0\\n\":\n",
        "                        self.resultField.delete(\"0.0\", END)\n",
        "                self.resultField.insert(INSERT, str(num))\n",
        "        def clear(self):\n",
        "                self.resultField.delete(\"0.0\", END)\n",
        "                self.resultField.insert(INSERT, \"0\")\n",
        "        def displayRes(self):\n",
        "                res = self.calculate(self.resultField.get(\"0.0\",END)[:-1])\n",
        "                self.resultField.delete(\"0.0\", END)\n",
        "                self.resultField.insert(INSERT, str(res))\n",
        "        def calculate(self, task):\n",
        "                if task == \"ERROR\":\n",
        "                        return \"ERROR\" # don't proceed if error happened in underlying call\n",
        "                try:\n",
        "                        return(float(task))\n",
        "                except ValueError:\n",
        "                        if \")\" in task:\n",
        "                                level = 0\n",
        "                                maxLevelStartIndex = 0\n",
        "                                maxLevelEndIndex = 0\n",
        "                                for i in range(0, len(task)):\n",
        "                                        if task[i] == \"(\":\n",
        "                                                level += 1\n",
        "                                                maxLevelStartIndex = i\n",
        "                                        if task[i] == \")\":\n",
        "                                                level -= 1\n",
        "                                if level != 0:\n",
        "                                        messagebox.showerror(\"Error\", \"ERROR: brackets don't match: %i layers too much in expression %s\" %(level, task))\n",
        "                                        return \"ERROR\"\n",
        "                                for i in range(maxLevelStartIndex, len(task)):\n",
        "                                        if task[i] == \")\":\n",
        "                                                maxLevelEndIndex = i\n",
        "                                                break\n",
        "                                newTask = task[:maxLevelStartIndex] + str(self.calculate(task[maxLevelStartIndex+1:maxLevelEndIndex])) + task[maxLevelEndIndex+1:]\n",
        "                                return self.calculate(newTask)\n",
        "                        elif \"+\" in task:\n",
        "                                tesk = task.split(\"+\")\n",
        "                                res = self.calculate(tesk[0])\n",
        "                                for t in tesk[1:]:\n",
        "                                        res += self.calculate(t)\n",
        "                                return res\n",
        "                        elif \"-\" in task:\n",
        "                                tesk = task.split(\"-\")\n",
        "                                res = self.calculate(tesk[0])\n",
        "                                for t in tesk[1:]:\n",
        "                                        res -= self.calculate(t)\n",
        "                                return res\n",
        "                        elif \"*\" in task:\n",
        "                                tesk = task.split(\"*\")\n",
        "                                res = self.calculate(tesk[0])\n",
        "                                for t in tesk[1:]:\n",
        "                                        res *= self.calculate(t)\n",
        "                                return res\n",
        "                        elif \"/\" in task:\n",
        "                                tesk = task.split(\"/\")\n",
        "                                res = self.calculate(tesk[0])\n",
        "                                for t in tesk[1:]:\n",
        "                                        try:\n",
        "                                                res /= self.calculate(t)\n",
        "                                        except ZeroDivisionError:\n",
        "                                                messagebox.showerror(\"Error\", \"ERROR: division by 0\")\n",
        "                                                return \"ERROR\"\n",
        "                                return res\n",
        "                        else:\n",
        "                                messagebox.showerror(\"Error\", \"ERROR: invalid expression\")\n",
        "                                return \"ERROR\"\n",
        "root = Tk()\n",
        "app = Window(root)\n",
        "root.wm_title(\"Calculator\")\n",
        "root.mainloop()\n"
      ],
      "execution_count": null,
      "outputs": [
        {
          "output_type": "stream",
          "text": [
            "\u001b[31mERROR: Could not find a version that satisfies the requirement tkinter (from versions: none)\u001b[0m\n",
            "\u001b[31mERROR: No matching distribution found for tkinter\u001b[0m\n"
          ],
          "name": "stdout"
        }
      ]
    }
  ]
}