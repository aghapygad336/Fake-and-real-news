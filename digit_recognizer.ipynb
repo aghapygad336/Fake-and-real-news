{
  "nbformat": 4,
  "nbformat_minor": 0,
  "metadata": {
    "kernelspec": {
      "display_name": "Python 3",
      "language": "python",
      "name": "python3"
    },
    "language_info": {
      "codemirror_mode": {
        "name": "ipython",
        "version": 3
      },
      "file_extension": ".py",
      "mimetype": "text/x-python",
      "name": "python",
      "nbconvert_exporter": "python",
      "pygments_lexer": "ipython3",
      "version": "3.7.3"
    },
    "colab": {
      "name": "digit recognizer.ipynb",
      "provenance": [],
      "collapsed_sections": [],
      "include_colab_link": true
    }
  },
  "cells": [
    {
      "cell_type": "markdown",
      "metadata": {
        "id": "view-in-github",
        "colab_type": "text"
      },
      "source": [
        "<a href=\"https://colab.research.google.com/github/aghapygad336/Fake-and-real-news/blob/master/digit_recognizer.ipynb\" target=\"_parent\"><img src=\"https://colab.research.google.com/assets/colab-badge.svg\" alt=\"Open In Colab\"/></a>"
      ]
    },
    {
      "cell_type": "code",
      "metadata": {
        "id": "aY8RawqBF--M",
        "colab_type": "code",
        "colab": {}
      },
      "source": [
        "import numpy as np \n",
        "import matplotlib.pyplot as plt\n",
        "import pandas as pd \n",
        "\n",
        "import tensorflow as tf\n",
        "from tensorflow import keras\n",
        "\n",
        "from sklearn.model_selection import train_test_split\n",
        "\n",
        "from tensorflow.keras.preprocessing.image import ImageDataGenerator\n",
        "from tensorflow.keras.callbacks import LearningRateScheduler,ReduceLROnPlateau\n",
        "\n",
        "from tensorflow import keras  \n",
        "from tensorflow.keras.preprocessing.image import ImageDataGenerator\n",
        "from tensorflow.keras import layers\n",
        "from tensorflow.keras.callbacks import LearningRateScheduler,ReduceLROnPlateau\n",
        "from tensorflow.keras.models import Sequential\n",
        "from tensorflow.keras.layers import Conv2D, Dense, MaxPool2D, Dropout, Flatten\n",
        "from tensorflow.keras.optimizers import Adam\n",
        "from tensorflow.keras.preprocessing.image import ImageDataGenerator\n",
        "from tensorflow.keras.callbacks import ReduceLROnPlateau\n",
        "from sklearn.model_selection import train_test_split\n",
        "import matplotlib.pyplot as plt\n",
        "import seaborn as sns"
      ],
      "execution_count": 15,
      "outputs": []
    },
    {
      "cell_type": "code",
      "metadata": {
        "id": "6JMX38XkJDlw",
        "colab_type": "code",
        "colab": {
          "base_uri": "https://localhost:8080/",
          "height": 34
        },
        "outputId": "69ad3258-5a16-4008-9c6e-47c372657c4d"
      },
      "source": [
        " from google.colab import drive\n",
        "drive.mount('/content/drive')"
      ],
      "execution_count": 16,
      "outputs": [
        {
          "output_type": "stream",
          "text": [
            "Drive already mounted at /content/drive; to attempt to forcibly remount, call drive.mount(\"/content/drive\", force_remount=True).\n"
          ],
          "name": "stdout"
        }
      ]
    },
    {
      "cell_type": "code",
      "metadata": {
        "id": "Qk2ZLe5aF--W",
        "colab_type": "code",
        "colab": {}
      },
      "source": [
        "df_train = pd.read_csv('/content/drive/My Drive/ask/Character Recognition /digit-recognizer/train.csv')\n",
        "df_test = pd.read_csv('/content/drive/My Drive/ask/Character Recognition /digit-recognizer/test.csv')"
      ],
      "execution_count": 17,
      "outputs": []
    },
    {
      "cell_type": "code",
      "metadata": {
        "id": "vQKCZ2U7F--q",
        "colab_type": "code",
        "colab": {
          "base_uri": "https://localhost:8080/",
          "height": 121
        },
        "outputId": "fecd98dc-7716-4b74-cc8c-8bbbc9a1ca4a"
      },
      "source": [
        "df_train.columns\n"
      ],
      "execution_count": 18,
      "outputs": [
        {
          "output_type": "execute_result",
          "data": {
            "text/plain": [
              "Index(['label', 'pixel0', 'pixel1', 'pixel2', 'pixel3', 'pixel4', 'pixel5',\n",
              "       'pixel6', 'pixel7', 'pixel8',\n",
              "       ...\n",
              "       'pixel774', 'pixel775', 'pixel776', 'pixel777', 'pixel778', 'pixel779',\n",
              "       'pixel780', 'pixel781', 'pixel782', 'pixel783'],\n",
              "      dtype='object', length=785)"
            ]
          },
          "metadata": {
            "tags": []
          },
          "execution_count": 18
        }
      ]
    },
    {
      "cell_type": "code",
      "metadata": {
        "id": "-AiADUzUJ8D8",
        "colab_type": "code",
        "colab": {
          "base_uri": "https://localhost:8080/",
          "height": 34
        },
        "outputId": "3085750e-6ef8-416f-c264-1ad3879d10c7"
      },
      "source": [
        "X = df_train.iloc[:, 1:].values\n",
        "y = df_train.iloc[:, 0].values\n",
        "\n",
        "X.shape, y.shape, X.dtype, y.dtype\n"
      ],
      "execution_count": 19,
      "outputs": [
        {
          "output_type": "execute_result",
          "data": {
            "text/plain": [
              "((42000, 784), (42000,), dtype('int64'), dtype('int64'))"
            ]
          },
          "metadata": {
            "tags": []
          },
          "execution_count": 19
        }
      ]
    },
    {
      "cell_type": "code",
      "metadata": {
        "id": "ayPAymbwKJqw",
        "colab_type": "code",
        "colab": {
          "base_uri": "https://localhost:8080/",
          "height": 594
        },
        "outputId": "e6ece152-3756-4420-bfa6-316b3c002166"
      },
      "source": [
        "random_indexes = np.random.choice(range(len(X)), 25)\n",
        "\n",
        "X_random = X[random_indexes]\n",
        "y_random = y[random_indexes]\n",
        "\n",
        "\n",
        "plt.figure(figsize = (16, 10))\n",
        "for i in range(25):\n",
        "    image = X_random[i]\n",
        "    image = image.reshape((28, 28))\n",
        "    plt.subplot(5, 5, i+1)\n",
        "    plt.xticks([])\n",
        "    plt.yticks([])\n",
        "    plt.imshow(image, \"binary\")\n",
        "    plt.title('label : {}'.format(y_random[i]))\n",
        "plt.show()\n"
      ],
      "execution_count": 20,
      "outputs": [
        {
          "output_type": "display_data",
          "data": {
            "image/png": "[encoded data removed]",
            "text/plain": [
              "<Figure size 1152x720 with 25 Axes>"
            ]
          },
          "metadata": {
            "tags": []
          }
        }
      ]
    },
    {
      "cell_type": "code",
      "metadata": {
        "id": "LADsMdLQKd5l",
        "colab_type": "code",
        "colab": {}
      },
      "source": [
        "from sklearn.preprocessing import StandardScaler\n",
        "scaler = StandardScaler()\n",
        "X = scaler.fit_transform(X)\n"
      ],
      "execution_count": 21,
      "outputs": []
    },
    {
      "cell_type": "code",
      "metadata": {
        "id": "xivdCk_pMCSG",
        "colab_type": "code",
        "colab": {}
      },
      "source": [
        "X_test = df_test.values\n",
        "X_test.shape\n",
        "X_test_scaled = scaler.fit_transform(X_test)\n",
        "X_test_scaled\n",
        "X = X.reshape((42000, 28, 28, 1))\n",
        "datagen = ImageDataGenerator(rotation_range=10,  zoom_range = 0.1,  width_shift_range=0.1,  height_shift_range=0.1)\n"
      ],
      "execution_count": 22,
      "outputs": []
    },
    {
      "cell_type": "code",
      "metadata": {
        "id": "8XGplEzPMHls",
        "colab_type": "code",
        "colab": {}
      },
      "source": [
        "reduce_lr = ReduceLROnPlateau(monitor='val_accuracy', \n",
        "                                patience=3, \n",
        "                                verbose=1, \n",
        "                                factor=0.2, \n",
        "                                min_lr=1e-6)\n"
      ],
      "execution_count": 23,
      "outputs": []
    },
    {
      "cell_type": "code",
      "metadata": {
        "id": "WN0BUX1c31Jz",
        "colab_type": "code",
        "colab": {}
      },
      "source": [
        "# Creating 3 objects of the same CNN architecture and saving in model_list\n",
        "model_list = []\n",
        "\n",
        "for i in range(3):\n",
        "    model = keras.models.Sequential([\n",
        "    keras.layers.Conv2D(32, kernel_size = 3, activation = 'relu', padding = 'same', input_shape = [28, 28, 1]),\n",
        "    keras.layers.BatchNormalization(),\n",
        "    keras.layers.Conv2D(64, kernel_size = 3, activation = 'relu', padding = 'same'),\n",
        "    keras.layers.MaxPool2D(),\n",
        "    keras.layers.Conv2D(32, kernel_size = 3, activation = 'relu', padding = 'same'),\n",
        "    keras.layers.BatchNormalization(),\n",
        "    keras.layers.Conv2D(64, kernel_size = 3, activation = 'relu', padding = 'same'),\n",
        "    keras.layers.MaxPool2D(),\n",
        "    keras.layers.Flatten(),\n",
        "    keras.layers.Dropout(0.3),\n",
        "    keras.layers.Dense(256, activation = 'relu'),\n",
        "    keras.layers.Dropout(0.5),\n",
        "    keras.layers.Dense(10, activation = 'softmax')])\n",
        "\n",
        "    model.compile(loss = 'sparse_categorical_crossentropy', optimizer = 'nadam', metrics = ['accuracy'])\n",
        "    model_list.append(model)\n"
      ],
      "execution_count": 24,
      "outputs": []
    },
    {
      "cell_type": "code",
      "metadata": {
        "id": "0m2iQrFt4HMQ",
        "colab_type": "code",
        "colab": {
          "base_uri": "https://localhost:8080/",
          "height": 1000
        },
        "outputId": "e710ff88-d2e6-4e54-c14e-3dff2f578b72"
      },
      "source": [
        "# Training all the 3 CNNs in the ensemble together\n",
        "\n",
        "history = [0] * 3\n",
        "\n",
        "for i in range(3):\n",
        "    X_train, X_valid, y_train, y_valid = train_test_split(X, y, test_size = 0.03)\n",
        "    history[i] = model_list[i].fit_generator(datagen.flow(X, y, batch_size = 128), \n",
        "                                             epochs = 20, validation_data = (X_valid, y_valid), callbacks = [reduce_lr])\n"
      ],
      "execution_count": 25,
      "outputs": [
        {
          "output_type": "stream",
          "text": [
            "Epoch 1/20\n",
            "329/329 [==============================] - 191s 582ms/step - loss: 0.5180 - accuracy: 0.8415 - val_loss: 0.1740 - val_accuracy: 0.9587 - lr: 0.0010\n",
            "Epoch 2/20\n",
            "329/329 [==============================] - 192s 583ms/step - loss: 0.1632 - accuracy: 0.9516 - val_loss: 0.0479 - val_accuracy: 0.9817 - lr: 0.0010\n",
            "Epoch 3/20\n",
            "329/329 [==============================] - 192s 584ms/step - loss: 0.1142 - accuracy: 0.9661 - val_loss: 0.0402 - val_accuracy: 0.9857 - lr: 0.0010\n",
            "Epoch 4/20\n",
            "329/329 [==============================] - 192s 583ms/step - loss: 0.0938 - accuracy: 0.9718 - val_loss: 0.0363 - val_accuracy: 0.9889 - lr: 0.0010\n",
            "Epoch 5/20\n",
            "329/329 [==============================] - 192s 582ms/step - loss: 0.0791 - accuracy: 0.9768 - val_loss: 0.0396 - val_accuracy: 0.9849 - lr: 0.0010\n",
            "Epoch 6/20\n",
            "329/329 [==============================] - 192s 583ms/step - loss: 0.0727 - accuracy: 0.9792 - val_loss: 0.0331 - val_accuracy: 0.9889 - lr: 0.0010\n",
            "Epoch 7/20\n",
            "329/329 [==============================] - 191s 582ms/step - loss: 0.0685 - accuracy: 0.9795 - val_loss: 0.0227 - val_accuracy: 0.9952 - lr: 0.0010\n",
            "Epoch 8/20\n",
            "329/329 [==============================] - 191s 581ms/step - loss: 0.0585 - accuracy: 0.9826 - val_loss: 0.0172 - val_accuracy: 0.9944 - lr: 0.0010\n",
            "Epoch 9/20\n",
            "329/329 [==============================] - 191s 582ms/step - loss: 0.0592 - accuracy: 0.9827 - val_loss: 0.0498 - val_accuracy: 0.9825 - lr: 0.0010\n",
            "Epoch 10/20\n",
            "329/329 [==============================] - ETA: 0s - loss: 0.0552 - accuracy: 0.9841\n",
            "Epoch 00010: ReduceLROnPlateau reducing learning rate to 0.00020000000949949026.\n",
            "329/329 [==============================] - 191s 580ms/step - loss: 0.0552 - accuracy: 0.9841 - val_loss: 0.0231 - val_accuracy: 0.9952 - lr: 0.0010\n",
            "Epoch 11/20\n",
            "329/329 [==============================] - 191s 581ms/step - loss: 0.0416 - accuracy: 0.9879 - val_loss: 0.0182 - val_accuracy: 0.9937 - lr: 2.0000e-04\n",
            "Epoch 12/20\n",
            "329/329 [==============================] - 191s 581ms/step - loss: 0.0383 - accuracy: 0.9890 - val_loss: 0.0161 - val_accuracy: 0.9952 - lr: 2.0000e-04\n",
            "Epoch 13/20\n",
            "329/329 [==============================] - 191s 581ms/step - loss: 0.0316 - accuracy: 0.9908 - val_loss: 0.0155 - val_accuracy: 0.9968 - lr: 2.0000e-04\n",
            "Epoch 14/20\n",
            "329/329 [==============================] - 191s 580ms/step - loss: 0.0309 - accuracy: 0.9909 - val_loss: 0.0147 - val_accuracy: 0.9968 - lr: 2.0000e-04\n",
            "Epoch 15/20\n",
            "329/329 [==============================] - 191s 582ms/step - loss: 0.0309 - accuracy: 0.9908 - val_loss: 0.0121 - val_accuracy: 0.9960 - lr: 2.0000e-04\n",
            "Epoch 16/20\n",
            "329/329 [==============================] - 191s 580ms/step - loss: 0.0286 - accuracy: 0.9915 - val_loss: 0.0108 - val_accuracy: 0.9992 - lr: 2.0000e-04\n",
            "Epoch 17/20\n",
            "329/329 [==============================] - 191s 580ms/step - loss: 0.0289 - accuracy: 0.9914 - val_loss: 0.0120 - val_accuracy: 0.9968 - lr: 2.0000e-04\n",
            "Epoch 18/20\n",
            "329/329 [==============================] - 191s 580ms/step - loss: 0.0273 - accuracy: 0.9914 - val_loss: 0.0132 - val_accuracy: 0.9960 - lr: 2.0000e-04\n",
            "Epoch 19/20\n",
            "329/329 [==============================] - ETA: 0s - loss: 0.0267 - accuracy: 0.9921\n",
            "Epoch 00019: ReduceLROnPlateau reducing learning rate to 4.0000001899898055e-05.\n",
            "329/329 [==============================] - 191s 580ms/step - loss: 0.0267 - accuracy: 0.9921 - val_loss: 0.0122 - val_accuracy: 0.9968 - lr: 2.0000e-04\n",
            "Epoch 20/20\n",
            "329/329 [==============================] - 191s 581ms/step - loss: 0.0236 - accuracy: 0.9928 - val_loss: 0.0121 - val_accuracy: 0.9968 - lr: 4.0000e-05\n",
            "Epoch 1/20\n",
            "329/329 [==============================] - 192s 585ms/step - loss: 0.5066 - accuracy: 0.8479 - val_loss: 0.1961 - val_accuracy: 0.9563 - lr: 0.0010\n",
            "Epoch 2/20\n",
            "329/329 [==============================] - 192s 584ms/step - loss: 0.1673 - accuracy: 0.9498 - val_loss: 0.0647 - val_accuracy: 0.9833 - lr: 0.0010\n",
            "Epoch 3/20\n",
            "329/329 [==============================] - 192s 583ms/step - loss: 0.1105 - accuracy: 0.9666 - val_loss: 0.0619 - val_accuracy: 0.9865 - lr: 0.0010\n",
            "Epoch 4/20\n",
            "329/329 [==============================] - 192s 583ms/step - loss: 0.0922 - accuracy: 0.9722 - val_loss: 0.0707 - val_accuracy: 0.9817 - lr: 0.0010\n",
            "Epoch 5/20\n",
            "329/329 [==============================] - 192s 583ms/step - loss: 0.0778 - accuracy: 0.9774 - val_loss: 0.0580 - val_accuracy: 0.9857 - lr: 0.0010\n",
            "Epoch 6/20\n",
            "329/329 [==============================] - 191s 582ms/step - loss: 0.0749 - accuracy: 0.9770 - val_loss: 0.0462 - val_accuracy: 0.9937 - lr: 0.0010\n",
            "Epoch 7/20\n",
            "329/329 [==============================] - 191s 582ms/step - loss: 0.0631 - accuracy: 0.9816 - val_loss: 0.0603 - val_accuracy: 0.9865 - lr: 0.0010\n",
            "Epoch 8/20\n",
            "329/329 [==============================] - 192s 583ms/step - loss: 0.0606 - accuracy: 0.9819 - val_loss: 0.0443 - val_accuracy: 0.9905 - lr: 0.0010\n",
            "Epoch 9/20\n",
            "329/329 [==============================] - ETA: 0s - loss: 0.0550 - accuracy: 0.9829\n",
            "Epoch 00009: ReduceLROnPlateau reducing learning rate to 0.00020000000949949026.\n",
            "329/329 [==============================] - 194s 589ms/step - loss: 0.0550 - accuracy: 0.9829 - val_loss: 0.0498 - val_accuracy: 0.9897 - lr: 0.0010\n",
            "Epoch 10/20\n",
            "329/329 [==============================] - 198s 601ms/step - loss: 0.0421 - accuracy: 0.9876 - val_loss: 0.0372 - val_accuracy: 0.9937 - lr: 2.0000e-04\n",
            "Epoch 11/20\n",
            "329/329 [==============================] - 198s 603ms/step - loss: 0.0356 - accuracy: 0.9894 - val_loss: 0.0354 - val_accuracy: 0.9960 - lr: 2.0000e-04\n",
            "Epoch 12/20\n",
            "329/329 [==============================] - 197s 600ms/step - loss: 0.0340 - accuracy: 0.9902 - val_loss: 0.0307 - val_accuracy: 0.9952 - lr: 2.0000e-04\n",
            "Epoch 13/20\n",
            "329/329 [==============================] - 191s 580ms/step - loss: 0.0341 - accuracy: 0.9900 - val_loss: 0.0315 - val_accuracy: 0.9937 - lr: 2.0000e-04\n",
            "Epoch 14/20\n",
            "329/329 [==============================] - ETA: 0s - loss: 0.0314 - accuracy: 0.9905\n",
            "Epoch 00014: ReduceLROnPlateau reducing learning rate to 4.0000001899898055e-05.\n",
            "329/329 [==============================] - 192s 585ms/step - loss: 0.0314 - accuracy: 0.9905 - val_loss: 0.0287 - val_accuracy: 0.9952 - lr: 2.0000e-04\n",
            "Epoch 15/20\n",
            "329/329 [==============================] - 192s 584ms/step - loss: 0.0294 - accuracy: 0.9908 - val_loss: 0.0277 - val_accuracy: 0.9960 - lr: 4.0000e-05\n",
            "Epoch 16/20\n",
            "329/329 [==============================] - 192s 584ms/step - loss: 0.0282 - accuracy: 0.9913 - val_loss: 0.0281 - val_accuracy: 0.9960 - lr: 4.0000e-05\n",
            "Epoch 17/20\n",
            "329/329 [==============================] - ETA: 0s - loss: 0.0303 - accuracy: 0.9912\n",
            "Epoch 00017: ReduceLROnPlateau reducing learning rate to 8.000000525498762e-06.\n",
            "329/329 [==============================] - 192s 583ms/step - loss: 0.0303 - accuracy: 0.9912 - val_loss: 0.0276 - val_accuracy: 0.9960 - lr: 4.0000e-05\n",
            "Epoch 18/20\n",
            "329/329 [==============================] - 191s 581ms/step - loss: 0.0266 - accuracy: 0.9922 - val_loss: 0.0270 - val_accuracy: 0.9960 - lr: 8.0000e-06\n",
            "Epoch 19/20\n",
            "329/329 [==============================] - 191s 581ms/step - loss: 0.0267 - accuracy: 0.9920 - val_loss: 0.0272 - val_accuracy: 0.9960 - lr: 8.0000e-06\n",
            "Epoch 20/20\n",
            "329/329 [==============================] - ETA: 0s - loss: 0.0268 - accuracy: 0.9916\n",
            "Epoch 00020: ReduceLROnPlateau reducing learning rate to 1.6000001778593287e-06.\n",
            "329/329 [==============================] - 191s 581ms/step - loss: 0.0268 - accuracy: 0.9916 - val_loss: 0.0274 - val_accuracy: 0.9960 - lr: 8.0000e-06\n",
            "Epoch 1/20\n",
            "329/329 [==============================] - 192s 582ms/step - loss: 0.5188 - accuracy: 0.8438 - val_loss: 0.2706 - val_accuracy: 0.9556 - lr: 0.0010\n",
            "Epoch 2/20\n",
            "329/329 [==============================] - 192s 583ms/step - loss: 0.1591 - accuracy: 0.9522 - val_loss: 0.0505 - val_accuracy: 0.9833 - lr: 0.0010\n",
            "Epoch 3/20\n",
            "329/329 [==============================] - 192s 583ms/step - loss: 0.1152 - accuracy: 0.9659 - val_loss: 0.0418 - val_accuracy: 0.9849 - lr: 0.0010\n",
            "Epoch 4/20\n",
            "329/329 [==============================] - 191s 581ms/step - loss: 0.0868 - accuracy: 0.9744 - val_loss: 0.0288 - val_accuracy: 0.9913 - lr: 0.0010\n",
            "Epoch 5/20\n",
            "329/329 [==============================] - 193s 586ms/step - loss: 0.0831 - accuracy: 0.9760 - val_loss: 0.0297 - val_accuracy: 0.9905 - lr: 0.0010\n",
            "Epoch 6/20\n",
            "329/329 [==============================] - 194s 588ms/step - loss: 0.0743 - accuracy: 0.9787 - val_loss: 0.0240 - val_accuracy: 0.9929 - lr: 0.0010\n",
            "Epoch 7/20\n",
            "329/329 [==============================] - 195s 593ms/step - loss: 0.0645 - accuracy: 0.9806 - val_loss: 0.0213 - val_accuracy: 0.9929 - lr: 0.0010\n",
            "Epoch 8/20\n",
            "329/329 [==============================] - 197s 600ms/step - loss: 0.0622 - accuracy: 0.9818 - val_loss: 0.0132 - val_accuracy: 0.9944 - lr: 0.0010\n",
            "Epoch 9/20\n",
            "329/329 [==============================] - 195s 592ms/step - loss: 0.0580 - accuracy: 0.9828 - val_loss: 0.0151 - val_accuracy: 0.9944 - lr: 0.0010\n",
            "Epoch 10/20\n",
            "329/329 [==============================] - 194s 589ms/step - loss: 0.0576 - accuracy: 0.9829 - val_loss: 0.0156 - val_accuracy: 0.9968 - lr: 0.0010\n",
            "Epoch 11/20\n",
            "329/329 [==============================] - 193s 587ms/step - loss: 0.0508 - accuracy: 0.9848 - val_loss: 0.0181 - val_accuracy: 0.9952 - lr: 0.0010\n",
            "Epoch 12/20\n",
            "329/329 [==============================] - 193s 587ms/step - loss: 0.0530 - accuracy: 0.9849 - val_loss: 0.0173 - val_accuracy: 0.9952 - lr: 0.0010\n",
            "Epoch 13/20\n",
            "329/329 [==============================] - ETA: 0s - loss: 0.0482 - accuracy: 0.9856\n",
            "Epoch 00013: ReduceLROnPlateau reducing learning rate to 0.00020000000949949026.\n",
            "329/329 [==============================] - 194s 590ms/step - loss: 0.0482 - accuracy: 0.9856 - val_loss: 0.0121 - val_accuracy: 0.9960 - lr: 0.0010\n",
            "Epoch 14/20\n",
            "329/329 [==============================] - 194s 589ms/step - loss: 0.0392 - accuracy: 0.9889 - val_loss: 0.0089 - val_accuracy: 0.9976 - lr: 2.0000e-04\n",
            "Epoch 15/20\n",
            "329/329 [==============================] - 193s 587ms/step - loss: 0.0311 - accuracy: 0.9908 - val_loss: 0.0076 - val_accuracy: 0.9976 - lr: 2.0000e-04\n",
            "Epoch 16/20\n",
            "329/329 [==============================] - 193s 587ms/step - loss: 0.0303 - accuracy: 0.9904 - val_loss: 0.0075 - val_accuracy: 0.9976 - lr: 2.0000e-04\n",
            "Epoch 17/20\n",
            "329/329 [==============================] - 194s 590ms/step - loss: 0.0288 - accuracy: 0.9916 - val_loss: 0.0060 - val_accuracy: 0.9984 - lr: 2.0000e-04\n",
            "Epoch 18/20\n",
            "329/329 [==============================] - 194s 589ms/step - loss: 0.0261 - accuracy: 0.9922 - val_loss: 0.0084 - val_accuracy: 0.9984 - lr: 2.0000e-04\n",
            "Epoch 19/20\n",
            "329/329 [==============================] - 194s 589ms/step - loss: 0.0292 - accuracy: 0.9918 - val_loss: 0.0100 - val_accuracy: 0.9968 - lr: 2.0000e-04\n",
            "Epoch 20/20\n",
            "329/329 [==============================] - ETA: 0s - loss: 0.0237 - accuracy: 0.9929\n",
            "Epoch 00020: ReduceLROnPlateau reducing learning rate to 4.0000001899898055e-05.\n",
            "329/329 [==============================] - 194s 590ms/step - loss: 0.0237 - accuracy: 0.9929 - val_loss: 0.0089 - val_accuracy: 0.9968 - lr: 2.0000e-04\n"
          ],
          "name": "stdout"
        }
      ]
    },
    {
      "cell_type": "code",
      "metadata": {
        "id": "kFjMfen-4IVF",
        "colab_type": "code",
        "colab": {}
      },
      "source": [
        "ensemble_cnn_pred = np.zeros((X_test.shape[0], 10))\n",
        "ensemble_cnn_pred.shape\n",
        "X_test_scaled = X_test_scaled.reshape((28000, 28, 28, 1))\n"
      ],
      "execution_count": 26,
      "outputs": []
    },
    {
      "cell_type": "code",
      "metadata": {
        "id": "oGl1v2mJ-Bbh",
        "colab_type": "code",
        "colab": {}
      },
      "source": [
        "for i in range(3):\n",
        "  ensemble_cnn_pred = ensemble_cnn_pred + model_list[i].predict(X_test_scaled)\n"
      ],
      "execution_count": 28,
      "outputs": []
    },
    {
      "cell_type": "code",
      "metadata": {
        "id": "tfyJROYv-GOY",
        "colab_type": "code",
        "colab": {
          "base_uri": "https://localhost:8080/",
          "height": 34
        },
        "outputId": "f1cb8905-f4c5-4adf-891c-06fbdad87fb4"
      },
      "source": [
        "np.sum(ensemble_cnn_pred[0])\n"
      ],
      "execution_count": 29,
      "outputs": [
        {
          "output_type": "execute_result",
          "data": {
            "text/plain": [
              "6.000000006464247"
            ]
          },
          "metadata": {
            "tags": []
          },
          "execution_count": 29
        }
      ]
    },
    {
      "cell_type": "code",
      "metadata": {
        "id": "SRzK41s5-HrD",
        "colab_type": "code",
        "colab": {}
      },
      "source": [
        "pred_df_ensemble_cnn = pd.DataFrame(columns = ['ImageId', 'Label'])\n",
        "pred_df_ensemble_cnn['ImageId'] = np.arange(1, 28001)\n",
        "pred_df_ensemble_cnn['Label'] = ensemble_cnn_pred\n"
      ],
      "execution_count": 30,
      "outputs": []
    },
    {
      "cell_type": "code",
      "metadata": {
        "id": "ecr9IBwO7NZr",
        "colab_type": "code",
        "colab": {
          "base_uri": "https://localhost:8080/",
          "height": 424
        },
        "outputId": "dbfc1757-9040-4493-a523-49db21825b06"
      },
      "source": [
        "pred_df_ensemble_cnn"
      ],
      "execution_count": 31,
      "outputs": [
        {
          "output_type": "execute_result",
          "data": {
            "text/html": [
              "<div>\n",
              "<style scoped>\n",
              "    .dataframe tbody tr th:only-of-type {\n",
              "        vertical-align: middle;\n",
              "    }\n",
              "\n",
              "    .dataframe tbody tr th {\n",
              "        vertical-align: top;\n",
              "    }\n",
              "\n",
              "    .dataframe thead th {\n",
              "        text-align: right;\n",
              "    }\n",
              "</style>\n",
              "<table border=\"1\" class=\"dataframe\">\n",
              "  <thead>\n",
              "    <tr style=\"text-align: right;\">\n",
              "      <th></th>\n",
              "      <th>ImageId</th>\n",
              "      <th>Label</th>\n",
              "    </tr>\n",
              "  </thead>\n",
              "  <tbody>\n",
              "    <tr>\n",
              "      <th>0</th>\n",
              "      <td>1</td>\n",
              "      <td>1.925940e-11</td>\n",
              "    </tr>\n",
              "    <tr>\n",
              "      <th>1</th>\n",
              "      <td>2</td>\n",
              "      <td>5.999991e+00</td>\n",
              "    </tr>\n",
              "    <tr>\n",
              "      <th>2</th>\n",
              "      <td>3</td>\n",
              "      <td>2.307667e-10</td>\n",
              "    </tr>\n",
              "    <tr>\n",
              "      <th>3</th>\n",
              "      <td>4</td>\n",
              "      <td>5.371760e+00</td>\n",
              "    </tr>\n",
              "    <tr>\n",
              "      <th>4</th>\n",
              "      <td>5</td>\n",
              "      <td>1.080729e-13</td>\n",
              "    </tr>\n",
              "    <tr>\n",
              "      <th>...</th>\n",
              "      <td>...</td>\n",
              "      <td>...</td>\n",
              "    </tr>\n",
              "    <tr>\n",
              "      <th>27995</th>\n",
              "      <td>27996</td>\n",
              "      <td>2.201680e-09</td>\n",
              "    </tr>\n",
              "    <tr>\n",
              "      <th>27996</th>\n",
              "      <td>27997</td>\n",
              "      <td>6.968404e-07</td>\n",
              "    </tr>\n",
              "    <tr>\n",
              "      <th>27997</th>\n",
              "      <td>27998</td>\n",
              "      <td>7.467857e-20</td>\n",
              "    </tr>\n",
              "    <tr>\n",
              "      <th>27998</th>\n",
              "      <td>27999</td>\n",
              "      <td>6.905308e-09</td>\n",
              "    </tr>\n",
              "    <tr>\n",
              "      <th>27999</th>\n",
              "      <td>28000</td>\n",
              "      <td>1.049385e-12</td>\n",
              "    </tr>\n",
              "  </tbody>\n",
              "</table>\n",
              "<p>28000 rows × 2 columns</p>\n",
              "</div>"
            ],
            "text/plain": [
              "       ImageId         Label\n",
              "0            1  1.925940e-11\n",
              "1            2  5.999991e+00\n",
              "2            3  2.307667e-10\n",
              "3            4  5.371760e+00\n",
              "4            5  1.080729e-13\n",
              "...        ...           ...\n",
              "27995    27996  2.201680e-09\n",
              "27996    27997  6.968404e-07\n",
              "27997    27998  7.467857e-20\n",
              "27998    27999  6.905308e-09\n",
              "27999    28000  1.049385e-12\n",
              "\n",
              "[28000 rows x 2 columns]"
            ]
          },
          "metadata": {
            "tags": []
          },
          "execution_count": 31
        }
      ]
    },
    {
      "cell_type": "code",
      "metadata": {
        "id": "3ugP62xUBjdS",
        "colab_type": "code",
        "colab": {
          "base_uri": "https://localhost:8080/",
          "height": 86
        },
        "outputId": "f578d386-8981-4c6f-b53a-0c3b003f537e"
      },
      "source": [
        "print(\"Accuracy of the model on Training Data is - \" , model.evaluate(X_train,y_train)[1]*100)\n",
        "print(\"Accuracy of the model on Testing Data is - \" , model.evaluate(X_valid,y_valid)[1]*100)\n"
      ],
      "execution_count": 37,
      "outputs": [
        {
          "output_type": "stream",
          "text": [
            "1274/1274 [==============================] - 47s 37ms/step - loss: 0.0084 - accuracy: 0.9976\n",
            "Accuracy of the model on Training Data is -  99.76190328598022\n",
            "40/40 [==============================] - 1s 35ms/step - loss: 0.0089 - accuracy: 0.9968\n",
            "Accuracy of the model on Testing Data is -  99.68253970146179\n"
          ],
          "name": "stdout"
        }
      ]
    },
    {
      "cell_type": "code",
      "metadata": {
        "id": "yz35sk3j8kKM",
        "colab_type": "code",
        "colab": {
          "base_uri": "https://localhost:8080/",
          "height": 297
        },
        "outputId": "21f3a68e-3744-411f-e42a-5c8fef037787"
      },
      "source": [
        "plt.subplot(1, 2, 1)\n",
        "plt.plot(history[0].history['accuracy'], label='accuracy')\n",
        "plt.plot(history[0].history['val_accuracy'], label='val_accuracy')\n",
        "plt.xlabel(\"Epochs\")\n",
        "plt.ylabel(\"Accuracy\")\n",
        "plt.legend(loc='lower right')\n",
        "\n",
        "plt.subplot(1, 2, 2)\n",
        "plt.plot(history[0].history['loss'], label='loss')\n",
        "plt.plot(history[0].history['val_loss'], label='val_loss')\n",
        "plt.xlabel(\"Epochs\")\n",
        "plt.ylabel(\"Loss\")\n",
        "plt.legend(loc='lower right')\n",
        "\n",
        "plt.tight_layout()\n",
        "plt.show()"
      ],
      "execution_count": 33,
      "outputs": [
        {
          "output_type": "display_data",
          "data": {
            "image/png": "[encoded data removed]",
            "text/plain": [
              "<Figure size 432x288 with 2 Axes>"
            ]
          },
          "metadata": {
            "tags": [],
            "needs_background": "light"
          }
        }
      ]
    },
    {
      "cell_type": "code",
      "metadata": {
        "id": "I3bFnpGA_P6A",
        "colab_type": "code",
        "colab": {
          "base_uri": "https://localhost:8080/",
          "height": 297
        },
        "outputId": "a60e6f6d-5990-4a73-f076-250f7d018d09"
      },
      "source": [
        "plt.subplot(1, 2, 1)\n",
        "plt.plot(history[1].history['accuracy'], label='accuracy')\n",
        "plt.plot(history[1].history['val_accuracy'], label='val_accuracy')\n",
        "plt.xlabel(\"Epochs\")\n",
        "plt.ylabel(\"Accuracy\")\n",
        "plt.legend(loc='lower right')\n",
        "\n",
        "plt.subplot(1, 2, 2)\n",
        "plt.plot(history[1].history['loss'], label='loss')\n",
        "plt.plot(history[1].history['val_loss'], label='val_loss')\n",
        "plt.xlabel(\"Epochs\")\n",
        "plt.ylabel(\"Loss\")\n",
        "plt.legend(loc='lower right')\n",
        "\n",
        "plt.tight_layout()\n",
        "plt.show()"
      ],
      "execution_count": 34,
      "outputs": [
        {
          "output_type": "display_data",
          "data": {
            "image/png": "[encoded data removed]",
            "text/plain": [
              "<Figure size 432x288 with 2 Axes>"
            ]
          },
          "metadata": {
            "tags": [],
            "needs_background": "light"
          }
        }
      ]
    },
    {
      "cell_type": "code",
      "metadata": {
        "id": "AB2N8vkuABxs",
        "colab_type": "code",
        "colab": {
          "base_uri": "https://localhost:8080/",
          "height": 297
        },
        "outputId": "261a2322-bf12-41a8-d4ec-f18fda5a030c"
      },
      "source": [
        "plt.subplot(1, 2, 1)\n",
        "plt.plot(history[2].history['accuracy'], label='accuracy')\n",
        "plt.plot(history[2].history['val_accuracy'], label='val_accuracy')\n",
        "plt.xlabel(\"Epochs\")\n",
        "plt.ylabel(\"Accuracy\")\n",
        "plt.legend(loc='lower right')\n",
        "\n",
        "plt.subplot(1, 2, 2)\n",
        "plt.plot(history[2].history['loss'], label='loss')\n",
        "plt.plot(history[2].history['val_loss'], label='val_loss')\n",
        "plt.xlabel(\"Epochs\")\n",
        "plt.ylabel(\"Loss\")\n",
        "plt.legend(loc='lower right')\n",
        "\n",
        "plt.tight_layout()\n",
        "plt.show()"
      ],
      "execution_count": 35,
      "outputs": [
        {
          "output_type": "display_data",
          "data": {
            "image/png": "[encoded data removed]",
            "text/plain": [
              "<Figure size 432x288 with 2 Axes>"
            ]
          },
          "metadata": {
            "tags": [],
            "needs_background": "light"
          }
        }
      ]
    }
  ]
}