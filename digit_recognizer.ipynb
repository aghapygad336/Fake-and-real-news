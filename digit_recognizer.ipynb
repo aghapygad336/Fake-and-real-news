{
  "nbformat": 4,
  "nbformat_minor": 0,
  "metadata": {
    "kernelspec": {
      "display_name": "Python 3",
      "language": "python",
      "name": "python3"
    },
    "language_info": {
      "codemirror_mode": {
        "name": "ipython",
        "version": 3
      },
      "file_extension": ".py",
      "mimetype": "text/x-python",
      "name": "python",
      "nbconvert_exporter": "python",
      "pygments_lexer": "ipython3",
      "version": "3.7.3"
    },
    "colab": {
      "name": "digit recognizer.ipynb",
      "provenance": [],
      "collapsed_sections": [],
      "include_colab_link": true
    }
  },
  "cells": [
    {
      "cell_type": "markdown",
      "metadata": {
        "id": "view-in-github",
        "colab_type": "text"
      },
      "source": [
        "<a href=\"https://colab.research.google.com/github/aghapygad336/Fake-and-real-news/blob/master/digit_recognizer.ipynb\" target=\"_parent\"><img src=\"https://colab.research.google.com/assets/colab-badge.svg\" alt=\"Open In Colab\"/></a>"
      ]
    },
    {
      "cell_type": "code",
      "metadata": {
        "id": "aY8RawqBF--M",
        "colab_type": "code",
        "colab": {}
      },
      "source": [
        "import numpy as np \n",
        "import matplotlib.pyplot as plt\n",
        "import pandas as pd \n",
        "\n",
        "import tensorflow as tf\n",
        "from tensorflow import keras\n",
        "\n",
        "from sklearn.model_selection import train_test_split\n",
        "\n",
        "from tensorflow.keras.preprocessing.image import ImageDataGenerator\n",
        "from tensorflow.keras.callbacks import LearningRateScheduler,ReduceLROnPlateau\n",
        "\n",
        "from tensorflow import keras  \n",
        "from tensorflow.keras.preprocessing.image import ImageDataGenerator\n",
        "from tensorflow.keras import layers\n",
        "from tensorflow.keras.callbacks import LearningRateScheduler,ReduceLROnPlateau\n",
        "from tensorflow.keras.models import Sequential\n",
        "from tensorflow.keras.layers import Conv2D, Dense, MaxPool2D, Dropout, Flatten\n",
        "from tensorflow.keras.optimizers import Adam\n",
        "from tensorflow.keras.preprocessing.image import ImageDataGenerator\n",
        "from tensorflow.keras.callbacks import ReduceLROnPlateau\n",
        "from sklearn.model_selection import train_test_split\n",
        "import matplotlib.pyplot as plt\n",
        "import seaborn as sns"
      ],
      "execution_count": 5,
      "outputs": []
    },
    {
      "cell_type": "code",
      "metadata": {
        "id": "6JMX38XkJDlw",
        "colab_type": "code",
        "colab": {
          "base_uri": "https://localhost:8080/",
          "height": 122
        },
        "outputId": "04babbca-99c0-420c-8d31-37767f76d4ad"
      },
      "source": [
        " from google.colab import drive\n",
        "drive.mount('/content/drive')"
      ],
      "execution_count": 6,
      "outputs": [
        {
          "output_type": "stream",
          "text": [
            "Go to this URL in a browser: https://accounts.google.com/o/oauth2/auth?client_id=947318989803-6bn6qk8qdgf4n4g3pfee6491hc0brc4i.apps.googleusercontent.com&redirect_uri=urn%3aietf%3awg%3aoauth%3a2.0%3aoob&response_type=code&scope=email%20https%3a%2f%2fwww.googleapis.com%2fauth%2fdocs.test%20https%3a%2f%2fwww.googleapis.com%2fauth%2fdrive%20https%3a%2f%2fwww.googleapis.com%2fauth%2fdrive.photos.readonly%20https%3a%2f%2fwww.googleapis.com%2fauth%2fpeopleapi.readonly\n",
            "\n",
            "Enter your authorization code:\n",
            "··········\n",
            "Mounted at /content/drive\n"
          ],
          "name": "stdout"
        }
      ]
    },
    {
      "cell_type": "code",
      "metadata": {
        "id": "Qk2ZLe5aF--W",
        "colab_type": "code",
        "colab": {}
      },
      "source": [
        "df_train = pd.read_csv('/content/drive/My Drive/ask/Character Recognition /digit-recognizer/train.csv')\n",
        "df_test = pd.read_csv('/content/drive/My Drive/ask/Character Recognition /digit-recognizer/test.csv')"
      ],
      "execution_count": 7,
      "outputs": []
    },
    {
      "cell_type": "code",
      "metadata": {
        "id": "vQKCZ2U7F--q",
        "colab_type": "code",
        "colab": {
          "base_uri": "https://localhost:8080/",
          "height": 119
        },
        "outputId": "c1adf44c-be3c-41ee-a701-1844cc782e8f"
      },
      "source": [
        "df_train.columns\n"
      ],
      "execution_count": 8,
      "outputs": [
        {
          "output_type": "execute_result",
          "data": {
            "text/plain": [
              "Index(['label', 'pixel0', 'pixel1', 'pixel2', 'pixel3', 'pixel4', 'pixel5',\n",
              "       'pixel6', 'pixel7', 'pixel8',\n",
              "       ...\n",
              "       'pixel774', 'pixel775', 'pixel776', 'pixel777', 'pixel778', 'pixel779',\n",
              "       'pixel780', 'pixel781', 'pixel782', 'pixel783'],\n",
              "      dtype='object', length=785)"
            ]
          },
          "metadata": {
            "tags": []
          },
          "execution_count": 8
        }
      ]
    },
    {
      "cell_type": "code",
      "metadata": {
        "id": "-AiADUzUJ8D8",
        "colab_type": "code",
        "colab": {
          "base_uri": "https://localhost:8080/",
          "height": 34
        },
        "outputId": "c2d5355f-c09c-44da-a032-0769a94a6dd2"
      },
      "source": [
        "X = df_train.iloc[:, 1:].values\n",
        "y = df_train.iloc[:, 0].values\n",
        "\n",
        "X.shape, y.shape, X.dtype, y.dtype\n"
      ],
      "execution_count": 9,
      "outputs": [
        {
          "output_type": "execute_result",
          "data": {
            "text/plain": [
              "((42000, 784), (42000,), dtype('int64'), dtype('int64'))"
            ]
          },
          "metadata": {
            "tags": []
          },
          "execution_count": 9
        }
      ]
    },
    {
      "cell_type": "code",
      "metadata": {
        "id": "ayPAymbwKJqw",
        "colab_type": "code",
        "colab": {
          "base_uri": "https://localhost:8080/",
          "height": 594
        },
        "outputId": "1f1cc01e-e909-40d7-e87c-a2da07a63f01"
      },
      "source": [
        "random_indexes = np.random.choice(range(len(X)), 25)\n",
        "\n",
        "X_random = X[random_indexes]\n",
        "y_random = y[random_indexes]\n",
        "\n",
        "\n",
        "plt.figure(figsize = (16, 10))\n",
        "for i in range(25):\n",
        "    image = X_random[i]\n",
        "    image = image.reshape((28, 28))\n",
        "    plt.subplot(5, 5, i+1)\n",
        "    plt.xticks([])\n",
        "    plt.yticks([])\n",
        "    plt.imshow(image, \"binary\")\n",
        "    plt.title('label : {}'.format(y_random[i]))\n",
        "plt.show()\n"
      ],
      "execution_count": 10,
      "outputs": [
        {
          "output_type": "display_data",
          "data": {
            "image/png": "[encoded data removed]",
            "text/plain": [
              "<Figure size 1152x720 with 25 Axes>"
            ]
          },
          "metadata": {
            "tags": []
          }
        }
      ]
    },
    {
      "cell_type": "code",
      "metadata": {
        "id": "LADsMdLQKd5l",
        "colab_type": "code",
        "colab": {}
      },
      "source": [
        "from sklearn.preprocessing import StandardScaler\n",
        "scaler = StandardScaler()\n",
        "X = scaler.fit_transform(X)\n"
      ],
      "execution_count": 11,
      "outputs": []
    },
    {
      "cell_type": "code",
      "metadata": {
        "id": "xivdCk_pMCSG",
        "colab_type": "code",
        "colab": {}
      },
      "source": [
        "X_test = df_test.values\n",
        "X_test.shape\n",
        "X_test_scaled = scaler.fit_transform(X_test)\n",
        "X_test_scaled\n",
        "X = X.reshape((42000, 28, 28, 1))\n",
        "datagen = ImageDataGenerator(rotation_range=10,  zoom_range = 0.1,  width_shift_range=0.1,  height_shift_range=0.1)\n"
      ],
      "execution_count": 12,
      "outputs": []
    },
    {
      "cell_type": "code",
      "metadata": {
        "id": "8XGplEzPMHls",
        "colab_type": "code",
        "colab": {}
      },
      "source": [
        "reduce_lr = ReduceLROnPlateau(monitor='val_accuracy', \n",
        "                                patience=3, \n",
        "                                verbose=1, \n",
        "                                factor=0.2, \n",
        "                                min_lr=1e-6)\n"
      ],
      "execution_count": 21,
      "outputs": []
    },
    {
      "cell_type": "code",
      "metadata": {
        "id": "WN0BUX1c31Jz",
        "colab_type": "code",
        "colab": {}
      },
      "source": [
        "# Creating 3 objects of the same CNN architecture and saving in model_list\n",
        "model_list = []\n",
        "\n",
        "for i in range(3):\n",
        "    model = keras.models.Sequential([\n",
        "    keras.layers.Conv2D(32, kernel_size = 3, activation = 'relu', padding = 'same', input_shape = [28, 28, 1]),\n",
        "    keras.layers.BatchNormalization(),\n",
        "    keras.layers.Conv2D(64, kernel_size = 3, activation = 'relu', padding = 'same'),\n",
        "    keras.layers.MaxPool2D(),\n",
        "    keras.layers.Conv2D(32, kernel_size = 3, activation = 'relu', padding = 'same'),\n",
        "    keras.layers.BatchNormalization(),\n",
        "    keras.layers.Conv2D(64, kernel_size = 3, activation = 'relu', padding = 'same'),\n",
        "    keras.layers.MaxPool2D(),\n",
        "    keras.layers.Flatten(),\n",
        "    keras.layers.Dropout(0.3),\n",
        "    keras.layers.Dense(256, activation = 'relu'),\n",
        "    keras.layers.Dropout(0.5),\n",
        "    keras.layers.Dense(10, activation = 'softmax')])\n",
        "\n",
        "    model.compile(loss = 'sparse_categorical_crossentropy', optimizer = 'nadam', metrics = ['accuracy'])\n",
        "    model_list.append(model)\n"
      ],
      "execution_count": 22,
      "outputs": []
    },
    {
      "cell_type": "code",
      "metadata": {
        "id": "0m2iQrFt4HMQ",
        "colab_type": "code",
        "colab": {
          "base_uri": "https://localhost:8080/",
          "height": 255
        },
        "outputId": "89f25d1f-685a-4bc5-d008-d8c803a2d336"
      },
      "source": [
        "# Training all the 3 CNNs in the ensemble together\n",
        "\n",
        "history = [0] * 3\n",
        "\n",
        "for i in range(3):\n",
        "    X_train, X_valid, y_train, y_valid = train_test_split(X, y, test_size = 0.08)\n",
        "    history[i] = model_list[i].fit_generator(datagen.flow(X, y, batch_size = 128), \n",
        "                                             epochs = 20, validation_data = (X_valid, y_valid), callbacks = [reduce_lr])\n"
      ],
      "execution_count": null,
      "outputs": [
        {
          "output_type": "stream",
          "text": [
            "Epoch 1/20\n",
            "329/329 [==============================] - 195s 593ms/step - loss: 0.1344 - accuracy: 0.9600 - val_loss: 0.0581 - val_accuracy: 0.9830 - lr: 0.0010\n",
            "Epoch 2/20\n",
            "329/329 [==============================] - 195s 593ms/step - loss: 0.1059 - accuracy: 0.9692 - val_loss: 0.0518 - val_accuracy: 0.9821 - lr: 0.0010\n",
            "Epoch 3/20\n",
            "329/329 [==============================] - 195s 594ms/step - loss: 0.0894 - accuracy: 0.9735 - val_loss: 0.0388 - val_accuracy: 0.9860 - lr: 0.0010\n",
            "Epoch 4/20\n",
            "329/329 [==============================] - 197s 600ms/step - loss: 0.0832 - accuracy: 0.9762 - val_loss: 0.0329 - val_accuracy: 0.9899 - lr: 0.0010\n",
            "Epoch 5/20\n",
            "329/329 [==============================] - 196s 597ms/step - loss: 0.0752 - accuracy: 0.9777 - val_loss: 0.0284 - val_accuracy: 0.9920 - lr: 0.0010\n",
            "Epoch 6/20\n",
            "329/329 [==============================] - 197s 599ms/step - loss: 0.0692 - accuracy: 0.9793 - val_loss: 0.0221 - val_accuracy: 0.9929 - lr: 0.0010\n",
            "Epoch 7/20\n",
            "152/329 [============>.................] - ETA: 1:43 - loss: 0.0658 - accuracy: 0.9812"
          ],
          "name": "stdout"
        }
      ]
    },
    {
      "cell_type": "code",
      "metadata": {
        "id": "kFjMfen-4IVF",
        "colab_type": "code",
        "colab": {}
      },
      "source": [
        "ensemble_cnn_pred = np.zeros((X_test.shape[0], 10))\n",
        "ensemble_cnn_pred.shape\n",
        "X_test_scaled = X_test_scaled.reshape((28000, 28, 28, 1))\n"
      ],
      "execution_count": null,
      "outputs": []
    },
    {
      "cell_type": "code",
      "metadata": {
        "id": "oGl1v2mJ-Bbh",
        "colab_type": "code",
        "colab": {}
      },
      "source": [
        "for i in range(7):\n",
        "  ensemble_cnn_pred = ensemble_cnn_pred + model_list[i].predict(X_test_scaled)\n"
      ],
      "execution_count": null,
      "outputs": []
    },
    {
      "cell_type": "code",
      "metadata": {
        "id": "tfyJROYv-GOY",
        "colab_type": "code",
        "colab": {}
      },
      "source": [
        "np.sum(ensemble_cnn_pred[0])\n"
      ],
      "execution_count": null,
      "outputs": []
    },
    {
      "cell_type": "code",
      "metadata": {
        "id": "SRzK41s5-HrD",
        "colab_type": "code",
        "colab": {}
      },
      "source": [
        "pred_df_ensemble_cnn = pd.DataFrame(columns = ['ImageId', 'Label'])\n",
        "pred_df_ensemble_cnn['ImageId'] = np.arange(1, 28001)\n",
        "pred_df_ensemble_cnn['Label'] = ensemble_cnn_pred\n"
      ],
      "execution_count": null,
      "outputs": []
    }
  ]
}